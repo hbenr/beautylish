<a href="https://colab.research.google.com/github/hbenr/beautylish/blob/main/notebook.ipynb">
  <img src="https://colab.research.google.com/assets/colab-badge.svg" alt="Open In Colab"/>
</a>

{
 "cells": [
  {
   "cell_type": "code",
   "execution_count": 34,
   "metadata": {
    "collapsed": true
   },
   "outputs": [],
   "source": [
    "from beautylish import Beautylish\n",
    "import pandas as pd"
   ]
  },
  {
   "cell_type": "code",
   "execution_count": 35,
   "outputs": [],
   "source": [
    "# Initialize api client and get product list json\n",
    "beautylish_client = Beautylish()\n",
    "products = beautylish_client.get_products()"
   ],
   "metadata": {
    "collapsed": false,
    "pycharm": {
     "name": "#%%\n"
    }
   }
  },
  {
   "cell_type": "code",
   "execution_count": 36,
   "outputs": [],
   "source": [
    "# Create a pandas DataFrame from the API response\n",
    "df = pd.DataFrame(products)"
   ],
   "metadata": {
    "collapsed": false,
    "pycharm": {
     "name": "#%%\n"
    }
   }
  },
  {
   "cell_type": "code",
   "execution_count": 37,
   "outputs": [
    {
     "data": {
      "text/plain": "   deleted    price         brand_name    id  hidden           product_name\n0    False  $123.45  Wonderful Widgets  1000   False            Widget 3000\n1     True   $10.00              Hooli  2004   False                Nucleus\n2    False   $10.00  Wonderful Widgets  1002    True         Another Widget\n3    False  $123.45  Wonderful Widgets  1001   False  Most Wonderful Widget\n4    False   $10.00               Acme  2001   False            Giant Anvil\n5    False  $123.45               Acme  2002   False             Mini Anvil\n6    False   $10.00               Acme  2000   False                  Anvil\n7    False  $123.45  Wonderful Widgets  1000   False            Widget 3000\n8    False   $10.00               Acme  2003   False       Anvil - Two Pack",
      "text/html": "<div>\n<style scoped>\n    .dataframe tbody tr th:only-of-type {\n        vertical-align: middle;\n    }\n\n    .dataframe tbody tr th {\n        vertical-align: top;\n    }\n\n    .dataframe thead th {\n        text-align: right;\n    }\n</style>\n<table border=\"1\" class=\"dataframe\">\n  <thead>\n    <tr style=\"text-align: right;\">\n      <th></th>\n      <th>deleted</th>\n      <th>price</th>\n      <th>brand_name</th>\n      <th>id</th>\n      <th>hidden</th>\n      <th>product_name</th>\n    </tr>\n  </thead>\n  <tbody>\n    <tr>\n      <th>0</th>\n      <td>False</td>\n      <td>$123.45</td>\n      <td>Wonderful Widgets</td>\n      <td>1000</td>\n      <td>False</td>\n      <td>Widget 3000</td>\n    </tr>\n    <tr>\n      <th>1</th>\n      <td>True</td>\n      <td>$10.00</td>\n      <td>Hooli</td>\n      <td>2004</td>\n      <td>False</td>\n      <td>Nucleus</td>\n    </tr>\n    <tr>\n      <th>2</th>\n      <td>False</td>\n      <td>$10.00</td>\n      <td>Wonderful Widgets</td>\n      <td>1002</td>\n      <td>True</td>\n      <td>Another Widget</td>\n    </tr>\n    <tr>\n      <th>3</th>\n      <td>False</td>\n      <td>$123.45</td>\n      <td>Wonderful Widgets</td>\n      <td>1001</td>\n      <td>False</td>\n      <td>Most Wonderful Widget</td>\n    </tr>\n    <tr>\n      <th>4</th>\n      <td>False</td>\n      <td>$10.00</td>\n      <td>Acme</td>\n      <td>2001</td>\n      <td>False</td>\n      <td>Giant Anvil</td>\n    </tr>\n    <tr>\n      <th>5</th>\n      <td>False</td>\n      <td>$123.45</td>\n      <td>Acme</td>\n      <td>2002</td>\n      <td>False</td>\n      <td>Mini Anvil</td>\n    </tr>\n    <tr>\n      <th>6</th>\n      <td>False</td>\n      <td>$10.00</td>\n      <td>Acme</td>\n      <td>2000</td>\n      <td>False</td>\n      <td>Anvil</td>\n    </tr>\n    <tr>\n      <th>7</th>\n      <td>False</td>\n      <td>$123.45</td>\n      <td>Wonderful Widgets</td>\n      <td>1000</td>\n      <td>False</td>\n      <td>Widget 3000</td>\n    </tr>\n    <tr>\n      <th>8</th>\n      <td>False</td>\n      <td>$10.00</td>\n      <td>Acme</td>\n      <td>2003</td>\n      <td>False</td>\n      <td>Anvil - Two Pack</td>\n    </tr>\n  </tbody>\n</table>\n</div>"
     },
     "execution_count": 37,
     "metadata": {},
     "output_type": "execute_result"
    }
   ],
   "source": [
    "df"
   ],
   "metadata": {
    "collapsed": false,
    "pycharm": {
     "name": "#%%\n"
    }
   }
  },
  {
   "cell_type": "code",
   "execution_count": 38,
   "outputs": [],
   "source": [
    "# Filter out any products that are hidden or deleted.\n",
    "df = df[~df.deleted & ~df.hidden]"
   ],
   "metadata": {
    "collapsed": false,
    "pycharm": {
     "name": "#%%\n"
    }
   }
  },
  {
   "cell_type": "code",
   "execution_count": 39,
   "outputs": [
    {
     "name": "stderr",
     "output_type": "stream",
     "text": [
      "C:\\Users\\Homero\\AppData\\Local\\Temp\\ipykernel_12388\\79240887.py:2: SettingWithCopyWarning: \n",
      "A value is trying to be set on a copy of a slice from a DataFrame.\n",
      "Try using .loc[row_indexer,col_indexer] = value instead\n",
      "\n",
      "See the caveats in the documentation: https://pandas.pydata.org/pandas-docs/stable/user_guide/indexing.html#returning-a-view-versus-a-copy\n",
      "  df.price = df.price.replace({'\\$': '', ',': ''}, regex=True).astype(float)\n",
      "C:\\Users\\Homero\\AppData\\Local\\Temp\\ipykernel_12388\\79240887.py:3: SettingWithCopyWarning: \n",
      "A value is trying to be set on a copy of a slice from a DataFrame\n",
      "\n",
      "See the caveats in the documentation: https://pandas.pydata.org/pandas-docs/stable/user_guide/indexing.html#returning-a-view-versus-a-copy\n",
      "  df.sort_values(by=['price', 'product_name'], inplace=True)\n"
     ]
    }
   ],
   "source": [
    "# Sort by lowest to highest price. If two items have the same price, sort by name.\n",
    "df.price = df.price.replace({'\\$': '', ',': ''}, regex=True).astype(float)\n",
    "df.sort_values(by=['price', 'product_name'], inplace=True)"
   ],
   "metadata": {
    "collapsed": false,
    "pycharm": {
     "name": "#%%\n"
    }
   }
  },
  {
   "cell_type": "code",
   "execution_count": 40,
   "outputs": [
    {
     "data": {
      "text/plain": "   deleted   price         brand_name    id  hidden           product_name\n6    False   10.00               Acme  2000   False                  Anvil\n8    False   10.00               Acme  2003   False       Anvil - Two Pack\n4    False   10.00               Acme  2001   False            Giant Anvil\n5    False  123.45               Acme  2002   False             Mini Anvil\n3    False  123.45  Wonderful Widgets  1001   False  Most Wonderful Widget\n0    False  123.45  Wonderful Widgets  1000   False            Widget 3000\n7    False  123.45  Wonderful Widgets  1000   False            Widget 3000",
      "text/html": "<div>\n<style scoped>\n    .dataframe tbody tr th:only-of-type {\n        vertical-align: middle;\n    }\n\n    .dataframe tbody tr th {\n        vertical-align: top;\n    }\n\n    .dataframe thead th {\n        text-align: right;\n    }\n</style>\n<table border=\"1\" class=\"dataframe\">\n  <thead>\n    <tr style=\"text-align: right;\">\n      <th></th>\n      <th>deleted</th>\n      <th>price</th>\n      <th>brand_name</th>\n      <th>id</th>\n      <th>hidden</th>\n      <th>product_name</th>\n    </tr>\n  </thead>\n  <tbody>\n    <tr>\n      <th>6</th>\n      <td>False</td>\n      <td>10.00</td>\n      <td>Acme</td>\n      <td>2000</td>\n      <td>False</td>\n      <td>Anvil</td>\n    </tr>\n    <tr>\n      <th>8</th>\n      <td>False</td>\n      <td>10.00</td>\n      <td>Acme</td>\n      <td>2003</td>\n      <td>False</td>\n      <td>Anvil - Two Pack</td>\n    </tr>\n    <tr>\n      <th>4</th>\n      <td>False</td>\n      <td>10.00</td>\n      <td>Acme</td>\n      <td>2001</td>\n      <td>False</td>\n      <td>Giant Anvil</td>\n    </tr>\n    <tr>\n      <th>5</th>\n      <td>False</td>\n      <td>123.45</td>\n      <td>Acme</td>\n      <td>2002</td>\n      <td>False</td>\n      <td>Mini Anvil</td>\n    </tr>\n    <tr>\n      <th>3</th>\n      <td>False</td>\n      <td>123.45</td>\n      <td>Wonderful Widgets</td>\n      <td>1001</td>\n      <td>False</td>\n      <td>Most Wonderful Widget</td>\n    </tr>\n    <tr>\n      <th>0</th>\n      <td>False</td>\n      <td>123.45</td>\n      <td>Wonderful Widgets</td>\n      <td>1000</td>\n      <td>False</td>\n      <td>Widget 3000</td>\n    </tr>\n    <tr>\n      <th>7</th>\n      <td>False</td>\n      <td>123.45</td>\n      <td>Wonderful Widgets</td>\n      <td>1000</td>\n      <td>False</td>\n      <td>Widget 3000</td>\n    </tr>\n  </tbody>\n</table>\n</div>"
     },
     "execution_count": 40,
     "metadata": {},
     "output_type": "execute_result"
    }
   ],
   "source": [
    "df"
   ],
   "metadata": {
    "collapsed": false,
    "pycharm": {
     "name": "#%%\n"
    }
   }
  },
  {
   "cell_type": "code",
   "execution_count": 41,
   "outputs": [
    {
     "data": {
      "text/plain": "   deleted   price         brand_name    id  hidden           product_name\n6    False   10.00               Acme  2000   False                  Anvil\n8    False   10.00               Acme  2003   False       Anvil - Two Pack\n4    False   10.00               Acme  2001   False            Giant Anvil\n5    False  123.45               Acme  2002   False             Mini Anvil\n3    False  123.45  Wonderful Widgets  1001   False  Most Wonderful Widget\n0    False  123.45  Wonderful Widgets  1000   False            Widget 3000",
      "text/html": "<div>\n<style scoped>\n    .dataframe tbody tr th:only-of-type {\n        vertical-align: middle;\n    }\n\n    .dataframe tbody tr th {\n        vertical-align: top;\n    }\n\n    .dataframe thead th {\n        text-align: right;\n    }\n</style>\n<table border=\"1\" class=\"dataframe\">\n  <thead>\n    <tr style=\"text-align: right;\">\n      <th></th>\n      <th>deleted</th>\n      <th>price</th>\n      <th>brand_name</th>\n      <th>id</th>\n      <th>hidden</th>\n      <th>product_name</th>\n    </tr>\n  </thead>\n  <tbody>\n    <tr>\n      <th>6</th>\n      <td>False</td>\n      <td>10.00</td>\n      <td>Acme</td>\n      <td>2000</td>\n      <td>False</td>\n      <td>Anvil</td>\n    </tr>\n    <tr>\n      <th>8</th>\n      <td>False</td>\n      <td>10.00</td>\n      <td>Acme</td>\n      <td>2003</td>\n      <td>False</td>\n      <td>Anvil - Two Pack</td>\n    </tr>\n    <tr>\n      <th>4</th>\n      <td>False</td>\n      <td>10.00</td>\n      <td>Acme</td>\n      <td>2001</td>\n      <td>False</td>\n      <td>Giant Anvil</td>\n    </tr>\n    <tr>\n      <th>5</th>\n      <td>False</td>\n      <td>123.45</td>\n      <td>Acme</td>\n      <td>2002</td>\n      <td>False</td>\n      <td>Mini Anvil</td>\n    </tr>\n    <tr>\n      <th>3</th>\n      <td>False</td>\n      <td>123.45</td>\n      <td>Wonderful Widgets</td>\n      <td>1001</td>\n      <td>False</td>\n      <td>Most Wonderful Widget</td>\n    </tr>\n    <tr>\n      <th>0</th>\n      <td>False</td>\n      <td>123.45</td>\n      <td>Wonderful Widgets</td>\n      <td>1000</td>\n      <td>False</td>\n      <td>Widget 3000</td>\n    </tr>\n  </tbody>\n</table>\n</div>"
     },
     "execution_count": 41,
     "metadata": {},
     "output_type": "execute_result"
    }
   ],
   "source": [
    "# If the same product is included twice, only display it once.\n",
    "df = df.drop_duplicates()\n",
    "\n",
    "df"
   ],
   "metadata": {
    "collapsed": false,
    "pycharm": {
     "name": "#%%\n"
    }
   }
  },
  {
   "cell_type": "code",
   "execution_count": 42,
   "outputs": [
    {
     "name": "stdout",
     "output_type": "stream",
     "text": [
      "\n",
      "Total number of unique products: 6\n",
      "Total number of unique brands: 2\n",
      "Average price: 66.72\n"
     ]
    }
   ],
   "source": [
    "# Display a summary that includes:\n",
    "# The total number of unique products\n",
    "# The total number of unique brands\n",
    "# The average price\n",
    "print(f'\\nTotal number of unique products: {df.product_name.nunique()}')\n",
    "print(f'Total number of unique brands: {df.brand_name.nunique()}')\n",
    "print(f'Average price: {df.price.mean():.2f}')"
   ],
   "metadata": {
    "collapsed": false,
    "pycharm": {
     "name": "#%%\n"
    }
   }
  },
  {
   "cell_type": "code",
   "execution_count": 42,
   "outputs": [],
   "source": [],
   "metadata": {
    "collapsed": false,
    "pycharm": {
     "name": "#%%\n"
    }
   }
  }
 ],
 "metadata": {
  "kernelspec": {
   "display_name": "Python 3",
   "language": "python",
   "name": "python3"
  },
  "language_info": {
   "codemirror_mode": {
    "name": "ipython",
    "version": 2
   },
   "file_extension": ".py",
   "mimetype": "text/x-python",
   "name": "python",
   "nbconvert_exporter": "python",
   "pygments_lexer": "ipython2",
   "version": "2.7.6"
  }
 },
 "nbformat": 4,
 "nbformat_minor": 0
}
